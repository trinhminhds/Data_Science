{
  "nbformat": 4,
  "nbformat_minor": 0,
  "metadata": {
    "colab": {
      "provenance": []
    },
    "kernelspec": {
      "name": "python3",
      "display_name": "Python 3"
    },
    "language_info": {
      "name": "python"
    }
  },
  "cells": [
    {
      "cell_type": "markdown",
      "source": [
        "# Numpy Bacsic\n",
        "\n",
        "---\n",
        "\n"
      ],
      "metadata": {
        "id": "5QPXrSLrVw_F"
      }
    },
    {
      "cell_type": "markdown",
      "source": [
        "## Import Numpy"
      ],
      "metadata": {
        "id": "-0tMa_YYWkgI"
      }
    },
    {
      "cell_type": "code",
      "execution_count": 1,
      "metadata": {
        "id": "6Hs6CQN7RqDj"
      },
      "outputs": [],
      "source": [
        "import numpy as np"
      ]
    },
    {
      "cell_type": "markdown",
      "source": [
        "## Creating Arrays"
      ],
      "metadata": {
        "id": "CxsVGxPAWyu-"
      }
    },
    {
      "cell_type": "code",
      "source": [
        "# Creat a 1-D array containing the values 1, 2, 3\n",
        "\n",
        "arr = np.array([1,2,3])\n",
        "\n",
        "arr"
      ],
      "metadata": {
        "colab": {
          "base_uri": "https://localhost:8080/"
        },
        "id": "ErQhK8lPW63e",
        "outputId": "049fe2fd-abcb-4c99-dd30-ad4b5db5ebd9"
      },
      "execution_count": 26,
      "outputs": [
        {
          "output_type": "execute_result",
          "data": {
            "text/plain": [
              "array([1, 2, 3])"
            ]
          },
          "metadata": {},
          "execution_count": 26
        }
      ]
    },
    {
      "cell_type": "code",
      "source": [
        "# Create 2-D array contaning two arrays with the values 1, 2, 3 and 4, 5, 6\n",
        "\n",
        "arr2 = np.array([[1,2,3],[4,5,6]])\n",
        "\n",
        "arr2"
      ],
      "metadata": {
        "colab": {
          "base_uri": "https://localhost:8080/"
        },
        "id": "p_6O273MXx7X",
        "outputId": "06f5e47f-1bf7-4aed-ff57-c5c54e6afc67"
      },
      "execution_count": 27,
      "outputs": [
        {
          "output_type": "execute_result",
          "data": {
            "text/plain": [
              "array([[1, 2, 3],\n",
              "       [4, 5, 6]])"
            ]
          },
          "metadata": {},
          "execution_count": 27
        }
      ]
    },
    {
      "cell_type": "code",
      "source": [
        "# Create a 3-D array with 2-D array, both contraining two arrays with the values 1, 2, 3 and 4, 5, 6\n",
        "\n",
        "arr3 = np.array([[[1, 2, 3], [4, 5, 6]], [[1, 2, 3], [4, 5, 6]]])\n",
        "\n",
        "arr3"
      ],
      "metadata": {
        "colab": {
          "base_uri": "https://localhost:8080/"
        },
        "id": "_ynE1MtHYqqI",
        "outputId": "7450b05a-80b9-4d1e-da8f-72eef376f226"
      },
      "execution_count": 28,
      "outputs": [
        {
          "output_type": "execute_result",
          "data": {
            "text/plain": [
              "array([[[1, 2, 3],\n",
              "        [4, 5, 6]],\n",
              "\n",
              "       [[1, 2, 3],\n",
              "        [4, 5, 6]]])"
            ]
          },
          "metadata": {},
          "execution_count": 28
        }
      ]
    },
    {
      "cell_type": "code",
      "source": [
        "# Check how many dimensions arrays have:\n",
        "\n",
        "print(arr.ndim)\n",
        "print(arr2.ndim)\n",
        "print(arr3.ndim)"
      ],
      "metadata": {
        "colab": {
          "base_uri": "https://localhost:8080/"
        },
        "id": "cugTExZlZwHU",
        "outputId": "756e487c-2f94-47ed-9fce-1d6088990092"
      },
      "execution_count": 29,
      "outputs": [
        {
          "output_type": "stream",
          "name": "stdout",
          "text": [
            "1\n",
            "2\n",
            "3\n"
          ]
        }
      ]
    },
    {
      "cell_type": "code",
      "source": [
        "# Create an array with 5 dimensions and verify that is has 5 dimentsions:\n",
        "\n",
        "arr_ndim = np.array([1,2,3,4], ndmin=5)\n",
        "\n",
        "arr_ndim"
      ],
      "metadata": {
        "colab": {
          "base_uri": "https://localhost:8080/"
        },
        "id": "_8fxkYieZvv-",
        "outputId": "6078d57b-f9a5-4795-e7b4-601c59992d67"
      },
      "execution_count": 34,
      "outputs": [
        {
          "output_type": "execute_result",
          "data": {
            "text/plain": [
              "array([[[[[1, 2, 3, 4]]]]])"
            ]
          },
          "metadata": {},
          "execution_count": 34
        }
      ]
    },
    {
      "cell_type": "markdown",
      "source": [
        "## Numpy Array Indexing"
      ],
      "metadata": {
        "id": "NuNgg9BAbmBD"
      }
    },
    {
      "cell_type": "code",
      "source": [
        "# Get the first element from the following array\n",
        "\n",
        "arr_idx = np.array([1,2,3,4,5])\n",
        "\n",
        "arr_idx[0]"
      ],
      "metadata": {
        "colab": {
          "base_uri": "https://localhost:8080/"
        },
        "id": "Y8nAr6QLb3xp",
        "outputId": "29915787-1a12-4119-b91b-f7b232cb844f"
      },
      "execution_count": 36,
      "outputs": [
        {
          "output_type": "execute_result",
          "data": {
            "text/plain": [
              "1"
            ]
          },
          "metadata": {},
          "execution_count": 36
        }
      ]
    },
    {
      "cell_type": "code",
      "source": [
        "# Get third and fourth element from the following array and add them\n",
        "\n",
        "arr_idx2 = np.array([1,2,3,4,5])\n",
        "\n",
        "arr_idx2[2] + arr_idx2[3]\n",
        "# 3 + 4 = 7"
      ],
      "metadata": {
        "colab": {
          "base_uri": "https://localhost:8080/"
        },
        "id": "yy8GltYvb3ue",
        "outputId": "a821636d-bf1f-4e1f-ddbd-3480d59ac4e5"
      },
      "execution_count": 38,
      "outputs": [
        {
          "output_type": "execute_result",
          "data": {
            "text/plain": [
              "7"
            ]
          },
          "metadata": {},
          "execution_count": 38
        }
      ]
    },
    {
      "cell_type": "code",
      "source": [
        "# Access the element on the first row, second columns and second row, second columns\n",
        "\n",
        "arr_idx3 = np.array([[1,2,3,4,5],[6,7,8,9,10]])\n",
        "\n",
        "print(f'2nd element on 1st row:' , arr_idx3[0,1])\n",
        "\n",
        "print(f'2nd element on 2st row:' , arr_idx3[1,1])"
      ],
      "metadata": {
        "colab": {
          "base_uri": "https://localhost:8080/"
        },
        "id": "J4WZc_IIb3q4",
        "outputId": "2af42257-efe3-4413-f554-e7b5ebab9675"
      },
      "execution_count": 44,
      "outputs": [
        {
          "output_type": "stream",
          "name": "stdout",
          "text": [
            "2nd element on 1st row: 2\n",
            "2nd element on 2st row: 7\n"
          ]
        }
      ]
    },
    {
      "cell_type": "code",
      "source": [
        "# Access the third element of the second array of the first array\n",
        "\n",
        "arr_idx4 = np.array([[[1,2,3],[4,5,6]],[[7,8,9],[10,11,12]]])\n",
        "\n",
        "print(f'Print array 3-D: \\n', arr_idx4)\n",
        "\n",
        "arr_idx4[0,1,2]"
      ],
      "metadata": {
        "colab": {
          "base_uri": "https://localhost:8080/"
        },
        "id": "-BSZk2n_b3nM",
        "outputId": "ba21a641-4efe-46f4-a8fb-571fbc7d57d8"
      },
      "execution_count": 49,
      "outputs": [
        {
          "output_type": "stream",
          "name": "stdout",
          "text": [
            "Print array 3-D: \n",
            " [[[ 1  2  3]\n",
            "  [ 4  5  6]]\n",
            "\n",
            " [[ 7  8  9]\n",
            "  [10 11 12]]]\n"
          ]
        },
        {
          "output_type": "execute_result",
          "data": {
            "text/plain": [
              "6"
            ]
          },
          "metadata": {},
          "execution_count": 49
        }
      ]
    },
    {
      "cell_type": "code",
      "source": [
        "# Print the last element from the 2nd 2dnim:\n",
        "\n",
        "arr_idx5 = np.array([[1,2,3,4,5],[6,7,8,9,10]])\n",
        "\n",
        "print('Last element the from 2nd ndim: ', arr_idx5[1,-1]) # 10\n",
        "print(arr_idx5[1,-2]) # 9"
      ],
      "metadata": {
        "colab": {
          "base_uri": "https://localhost:8080/"
        },
        "id": "h27c6vydb3kC",
        "outputId": "1296d76a-3f50-43d1-8b8b-ec92b3d15827"
      },
      "execution_count": 56,
      "outputs": [
        {
          "output_type": "stream",
          "name": "stdout",
          "text": [
            "Last element the from 2nd ndim:  10\n",
            "9\n"
          ]
        }
      ]
    },
    {
      "cell_type": "markdown",
      "source": [
        "## Numpy Array Slicing\n",
        "\n",
        "We pass slice instead of index like this: `[start:end]`.\n",
        "\n",
        "We can also define the step, like this: `[start:end:step]`."
      ],
      "metadata": {
        "id": "uONAkWrhib74"
      }
    },
    {
      "cell_type": "code",
      "source": [
        "# Slice elements from index 1 to index 5 from the following array:\n",
        "\n",
        "arr_sc = np.array([1,2,3,4,5,6,7])\n",
        "\n",
        "print('Print from index 1 to index 5: ', arr_sc[1:5])\n",
        "\n",
        "# Slice elements from index 2 to index 6 from the following array:\n",
        "\n",
        "print('Print from index 2 to index 6: ', arr_sc[2:6])\n"
      ],
      "metadata": {
        "colab": {
          "base_uri": "https://localhost:8080/"
        },
        "id": "RW-HNOfzb3gu",
        "outputId": "a83e78d7-7561-4a38-ffb1-ac0c51856d2b"
      },
      "execution_count": 59,
      "outputs": [
        {
          "output_type": "stream",
          "name": "stdout",
          "text": [
            "Print from index 1 to index 5:  [2 3 4 5]\n",
            "Print from index 2 to index 6:  [3 4 5 6]\n"
          ]
        }
      ]
    },
    {
      "cell_type": "code",
      "source": [
        "# Scice elements from the beginning to index 4 (not included):\n",
        "\n",
        "arr_sc1  = np.array([1,2,3,4,5])\n",
        "\n",
        "arr_sc1[:4]"
      ],
      "metadata": {
        "colab": {
          "base_uri": "https://localhost:8080/"
        },
        "id": "LBPxklUyb3dc",
        "outputId": "4b405f06-378a-4fb2-a0a7-6ed30736ca72"
      },
      "execution_count": 60,
      "outputs": [
        {
          "output_type": "execute_result",
          "data": {
            "text/plain": [
              "array([1, 2, 3, 4])"
            ]
          },
          "metadata": {},
          "execution_count": 60
        }
      ]
    },
    {
      "cell_type": "code",
      "source": [
        "# Scice elements from the index 3 the end to 1 index from the end\n",
        "\n",
        "arr_sc2 = np.array([1,2,3,4,5])\n",
        "\n",
        "arr_sc2[-3:-1]"
      ],
      "metadata": {
        "colab": {
          "base_uri": "https://localhost:8080/"
        },
        "id": "paYLW9walOGD",
        "outputId": "61d578a9-cbe0-48d4-f5a2-9ffd82ab5965"
      },
      "execution_count": 61,
      "outputs": [
        {
          "output_type": "execute_result",
          "data": {
            "text/plain": [
              "array([3, 4])"
            ]
          },
          "metadata": {},
          "execution_count": 61
        }
      ]
    },
    {
      "cell_type": "code",
      "source": [
        "# Return every other element from index 1 to index 5 [start:end:step]\n",
        "\n",
        "arr_sc3 = np.array([1,2,3,4,5,6,7,8,9,10])\n",
        "\n",
        "print('Print from index 1 to index 5: ' , arr_sc3[1:5:2])\n",
        "\n",
        "# Return every other element from the entire array:\n",
        "\n",
        "print('Print entire array: ' , arr_sc3[::2])"
      ],
      "metadata": {
        "colab": {
          "base_uri": "https://localhost:8080/"
        },
        "id": "-tkeTi4PlOCt",
        "outputId": "6d98a571-2b9c-4d36-a74a-a79cf91f994d"
      },
      "execution_count": 64,
      "outputs": [
        {
          "output_type": "stream",
          "name": "stdout",
          "text": [
            "Print from index 1 to index 5:  [2 4]\n",
            "Print entire array:  [1 3 5 7 9]\n"
          ]
        }
      ]
    },
    {
      "cell_type": "code",
      "source": [
        "# From the second element, scile elements from index 1 to index 4 (not included):\n",
        "\n",
        "arr_sc4 = np.array([[1,2,3,4,5],[6,7,8,9,10]])\n",
        "\n",
        "print('Print from index 1 to index 4: ', arr_sc4[1,1:4])"
      ],
      "metadata": {
        "colab": {
          "base_uri": "https://localhost:8080/"
        },
        "id": "AFCAg0Z2nIxj",
        "outputId": "bdd0d0b3-cc37-4b3b-a610-021f20efb23b"
      },
      "execution_count": 67,
      "outputs": [
        {
          "output_type": "stream",
          "name": "stdout",
          "text": [
            "Print from index 1 to index 4:  [7 8 9]\n"
          ]
        }
      ]
    },
    {
      "cell_type": "code",
      "source": [
        "# From both elements, return 2 index\n",
        "\n",
        "print('Print return 2 index: ', arr_sc4[0:2,2])"
      ],
      "metadata": {
        "colab": {
          "base_uri": "https://localhost:8080/"
        },
        "id": "iVLdAr2OnIuM",
        "outputId": "4b90045f-4770-45bd-d64d-70a489bff6bb"
      },
      "execution_count": 68,
      "outputs": [
        {
          "output_type": "stream",
          "name": "stdout",
          "text": [
            "Print return 2 index:  [3 8]\n"
          ]
        }
      ]
    },
    {
      "cell_type": "code",
      "source": [
        "# From the both elements, slice index 1 to index 4, this will return a 2D array:\n",
        "\n",
        "print('Print return 2D array: \\n', arr_sc4[0:2,1:4])"
      ],
      "metadata": {
        "colab": {
          "base_uri": "https://localhost:8080/"
        },
        "id": "xYQQedR8nIrN",
        "outputId": "e9f35993-9582-4092-9a30-bb088b64119e"
      },
      "execution_count": 70,
      "outputs": [
        {
          "output_type": "stream",
          "name": "stdout",
          "text": [
            "Print return 2D array: \n",
            " [[2 3 4]\n",
            " [7 8 9]]\n"
          ]
        }
      ]
    },
    {
      "cell_type": "markdown",
      "source": [
        "## Numpy Data Types\n",
        "\n",
        "By default Python have these data types:\n",
        "\n",
        "- `strings` - used to represent text data, the text is given under quote marks. e.g. \"ABCD\"\n",
        "\n",
        "- `integer` - used to represent integer numbers. e.g. -1, -2, -3\n",
        "\n",
        "- `float` - used to represent real numbers. e.g. 1.2, 42.42\n",
        "\n",
        "- `boolean` - used to represent True or False.\n",
        "\n",
        "- `complex` - used to represent complex numbers. e.g. 1.0 + 2.0j, 1.5 + 2.5j\n",
        "\n",
        "Data Types in Numpy:\n",
        "\n",
        "- `i` - integer\n",
        "- `b` - boolean\n",
        "- `u` - unsigned integer\n",
        "- `f` - float\n",
        "- `c` - complex float\n",
        "- `m` - timedelta\n",
        "- `M` - datetime\n",
        "- `O` - object\n",
        "- `S` - string\n",
        "- `U` - unicode string\n",
        "- `V` - fixed chunk of memory for other type ( void )"
      ],
      "metadata": {
        "id": "jaY-m_Uds1bG"
      }
    },
    {
      "cell_type": "code",
      "source": [
        "# Get the data type of an array containing strings:\n",
        "\n",
        "arr_ty = np.array(['apple', 'banana', 'cherry'])\n",
        "\n",
        "arr_ty.dtype"
      ],
      "metadata": {
        "colab": {
          "base_uri": "https://localhost:8080/"
        },
        "id": "SwhhGj0rnIoY",
        "outputId": "f4189f7a-a525-42d8-cf75-58961f8c71ca"
      },
      "execution_count": 74,
      "outputs": [
        {
          "output_type": "execute_result",
          "data": {
            "text/plain": [
              "dtype('<U6')"
            ]
          },
          "metadata": {},
          "execution_count": 74
        }
      ]
    },
    {
      "cell_type": "code",
      "source": [
        "# Create an array with data type string\n",
        "\n",
        "arr_ty2 = np.array([1, 2, 3], dtype='S')\n",
        "\n",
        "arr_ty2.dtype"
      ],
      "metadata": {
        "colab": {
          "base_uri": "https://localhost:8080/"
        },
        "id": "TSXTF6mTnIlN",
        "outputId": "c046cee1-8b46-456e-dfd3-033102496c13"
      },
      "execution_count": 76,
      "outputs": [
        {
          "output_type": "execute_result",
          "data": {
            "text/plain": [
              "dtype('S1')"
            ]
          },
          "metadata": {},
          "execution_count": 76
        }
      ]
    },
    {
      "cell_type": "code",
      "source": [
        "# Create an array with data type 4 bytes integer\n",
        "\n",
        "arr_ty3 = np.array([1, 2, 3], dtype='i4')\n",
        "\n",
        "arr_ty3.dtype"
      ],
      "metadata": {
        "colab": {
          "base_uri": "https://localhost:8080/"
        },
        "id": "MJkJNag8lN_2",
        "outputId": "c82f7a2c-e152-48ed-bd6d-177071e654f0"
      },
      "execution_count": 77,
      "outputs": [
        {
          "output_type": "execute_result",
          "data": {
            "text/plain": [
              "dtype('int32')"
            ]
          },
          "metadata": {},
          "execution_count": 77
        }
      ]
    },
    {
      "cell_type": "code",
      "source": [
        "# Chage data type from float to integer be using 'int' as parameter value:\n",
        "\n",
        "arr_ty4 = np.array([1.1, 2.1, 3.1])\n",
        "\n",
        "new_arr = arr_ty4.astype('int')\n",
        "\n",
        "new_arr.dtype"
      ],
      "metadata": {
        "colab": {
          "base_uri": "https://localhost:8080/"
        },
        "id": "uVOV6-swlN9C",
        "outputId": "09f40cca-a65d-475b-d88c-fffbb872c065"
      },
      "execution_count": 79,
      "outputs": [
        {
          "output_type": "execute_result",
          "data": {
            "text/plain": [
              "dtype('int64')"
            ]
          },
          "metadata": {},
          "execution_count": 79
        }
      ]
    },
    {
      "cell_type": "code",
      "source": [
        "# Chage data type integer to boolean be using 'bool' as parameter value:\n",
        "\n",
        "arr_ty5 = np.array([1, 0, 3])\n",
        "\n",
        "new_arr2 = arr_ty5.astype('bool')\n",
        "\n",
        "new_arr2"
      ],
      "metadata": {
        "colab": {
          "base_uri": "https://localhost:8080/"
        },
        "id": "eAvLxf-AlN59",
        "outputId": "901740e8-9f92-4440-e2c2-55f90c370f8a"
      },
      "execution_count": 81,
      "outputs": [
        {
          "output_type": "execute_result",
          "data": {
            "text/plain": [
              "array([ True, False,  True])"
            ]
          },
          "metadata": {},
          "execution_count": 81
        }
      ]
    },
    {
      "cell_type": "markdown",
      "source": [
        "## Numpy Array copy vs view\n",
        "\n",
        "The main difference between a copy and a view of an array is that the copy is a new array, and the view is just a view of the original array.\n",
        "\n",
        "The copy owns the data and any changes made to the copy will not affect original array, and any changes made to the original array will not affect the copy.\n",
        "\n",
        "The view does not own the data and any changes made to the view will affect the original array, and any changes made to the original array will affect the view."
      ],
      "metadata": {
        "id": "7Z4n3sRUx2tZ"
      }
    },
    {
      "cell_type": "code",
      "source": [
        "# Make a copy, chage the original array, and display both arrays:\n",
        "\n",
        "arr_copy = np.array([1, 2, 3, 4, 5])\n",
        "x = arr_copy.copy()\n",
        "x[0] = 42\n",
        "\n",
        "print(arr_copy)\n",
        "print(x)"
      ],
      "metadata": {
        "colab": {
          "base_uri": "https://localhost:8080/"
        },
        "id": "6DPlys3llN25",
        "outputId": "b897cc2f-dda2-40d2-99d8-0fddc40fec1d"
      },
      "execution_count": 82,
      "outputs": [
        {
          "output_type": "stream",
          "name": "stdout",
          "text": [
            "[1 2 3 4 5]\n",
            "[42  2  3  4  5]\n"
          ]
        }
      ]
    },
    {
      "cell_type": "code",
      "source": [
        "# Make a view, chage the original array, and display both arrays:\n",
        "\n",
        "arr_view = np.array([1, 2, 3, 4, 5])\n",
        "y = arr_view.view()\n",
        "y[0] = 42\n",
        "\n",
        "print(arr_view)\n",
        "print(y)"
      ],
      "metadata": {
        "colab": {
          "base_uri": "https://localhost:8080/"
        },
        "id": "nlj7EE1RlNz2",
        "outputId": "a6a04500-4874-4e72-c933-dad3e840bbc8"
      },
      "execution_count": 83,
      "outputs": [
        {
          "output_type": "stream",
          "name": "stdout",
          "text": [
            "[42  2  3  4  5]\n",
            "[42  2  3  4  5]\n"
          ]
        }
      ]
    },
    {
      "cell_type": "markdown",
      "source": [
        "## Numpy Array shape\n",
        "\n",
        "The shape of an array is the number of elements in each dimension."
      ],
      "metadata": {
        "id": "0-XvRAeByubF"
      }
    },
    {
      "cell_type": "code",
      "source": [
        "# Print the shape of a 2D array:\n",
        "\n",
        "arr_shape = np.array([[1, 2, 3, 4], [5, 6, 7, 8]])\n",
        "\n",
        "arr_shape.shape"
      ],
      "metadata": {
        "colab": {
          "base_uri": "https://localhost:8080/"
        },
        "id": "DsVA8QMHb3aE",
        "outputId": "24f03e24-b9f1-48d5-abcc-795fd22dd153"
      },
      "execution_count": 84,
      "outputs": [
        {
          "output_type": "execute_result",
          "data": {
            "text/plain": [
              "(2, 4)"
            ]
          },
          "metadata": {},
          "execution_count": 84
        }
      ]
    },
    {
      "cell_type": "markdown",
      "source": [
        "## Numpy Array Reshaping\n",
        "\n",
        "Reshaping means changing the shape of an array.\n",
        "\n",
        "The shape of an array is the number of elements in each dimension.\n",
        "\n",
        "By reshaping we can add or remove dimensions or change number of elements in each dimension."
      ],
      "metadata": {
        "id": "5BX0-M8szvNp"
      }
    },
    {
      "cell_type": "code",
      "source": [
        "# Covert the follwing 1D array with 12 elements into a 2D array\n",
        "# The outermost dimentsion will have 4 arrays, each with 3 elements\n",
        "\n",
        "arr_res = np.array([1, 2, 3, 4, 5, 6, 7, 8, 9, 10, 11, 12])\n",
        "\n",
        "arr_res = arr_res.reshape(4,3)\n",
        "\n",
        "arr_res"
      ],
      "metadata": {
        "colab": {
          "base_uri": "https://localhost:8080/"
        },
        "id": "A4uIvv-5zwdt",
        "outputId": "d479771a-f4af-4681-e341-888ac090b730"
      },
      "execution_count": 88,
      "outputs": [
        {
          "output_type": "execute_result",
          "data": {
            "text/plain": [
              "array([[ 1,  2,  3],\n",
              "       [ 4,  5,  6],\n",
              "       [ 7,  8,  9],\n",
              "       [10, 11, 12]])"
            ]
          },
          "metadata": {},
          "execution_count": 88
        }
      ]
    },
    {
      "cell_type": "code",
      "source": [
        "# Convert the follwing 1D array with 12 elements into a 3D array\n",
        "# The outmost dimension will have 4 arrays, each with 3 elements\n",
        "\n",
        "arr_res1 = np.array([1, 2, 3, 4, 5, 6, 7, 8, 9, 10, 11, 12])\n",
        "\n",
        "arr_res1 = arr_res1.reshape(2,3,2)\n",
        "\n",
        "arr_res1"
      ],
      "metadata": {
        "colab": {
          "base_uri": "https://localhost:8080/"
        },
        "id": "ha0kU3-3zwU8",
        "outputId": "d8b8d3b6-dd07-4d9a-e8f9-c00756fd3df8"
      },
      "execution_count": 89,
      "outputs": [
        {
          "output_type": "execute_result",
          "data": {
            "text/plain": [
              "array([[[ 1,  2],\n",
              "        [ 3,  4],\n",
              "        [ 5,  6]],\n",
              "\n",
              "       [[ 7,  8],\n",
              "        [ 9, 10],\n",
              "        [11, 12]]])"
            ]
          },
          "metadata": {},
          "execution_count": 89
        }
      ]
    },
    {
      "cell_type": "markdown",
      "source": [
        "### Returns Copy or View?"
      ],
      "metadata": {
        "id": "lCXjDuJW4Kqk"
      }
    },
    {
      "cell_type": "code",
      "source": [
        "# Check if the returned array is a copy or a view\n",
        "\n",
        "arr_res2 = np.array([1, 2, 3, 4, 5, 6, 7, 8])\n",
        "\n",
        "x = arr_res2.reshape(2, 4).base\n",
        "\n",
        "print(x)\n",
        "print(arr_res2)"
      ],
      "metadata": {
        "colab": {
          "base_uri": "https://localhost:8080/"
        },
        "id": "1PI5N9L1zwPK",
        "outputId": "390bd5d7-d8c6-4619-8dcd-7672ef98d957"
      },
      "execution_count": 94,
      "outputs": [
        {
          "output_type": "stream",
          "name": "stdout",
          "text": [
            "[1 2 3 4 5 6 7 8]\n",
            "[1 2 3 4 5 6 7 8]\n"
          ]
        }
      ]
    },
    {
      "cell_type": "markdown",
      "source": [
        "### Unknown Dimension\n",
        "\n",
        "You are allowed to have one \"unknown\" dimension.\n",
        "\n",
        "Meaning that you do not have to specify an exact number for one of the dimensions in the reshape method.\n",
        "\n",
        "Pass `-1` as the value, and NumPy will calculate this number for you."
      ],
      "metadata": {
        "id": "nfpxg3zF35oF"
      }
    },
    {
      "cell_type": "code",
      "source": [
        "# Convert 1D array with 8 elements to 3D array with 2x2 elements:\n",
        "\n",
        "arr_res3 = np.array([1, 2, 3, 4, 5, 6, 7, 8])\n",
        "\n",
        "new_arr3 = arr_res3.reshape(2, 2, -1)\n",
        "\n",
        "print(new_arr3.shape)\n",
        "\n",
        "print(new_arr3)"
      ],
      "metadata": {
        "colab": {
          "base_uri": "https://localhost:8080/"
        },
        "id": "uUiHlixMzwMW",
        "outputId": "64021634-15aa-4ec2-a501-a36ff3daadbc"
      },
      "execution_count": 98,
      "outputs": [
        {
          "output_type": "stream",
          "name": "stdout",
          "text": [
            "(2, 2, 2)\n",
            "[[[1 2]\n",
            "  [3 4]]\n",
            "\n",
            " [[5 6]\n",
            "  [7 8]]]\n"
          ]
        }
      ]
    },
    {
      "cell_type": "markdown",
      "source": [
        "### Flattening the Arrays\n",
        "\n",
        "Flattening array means converting a multidimensional array into a 1D array.\n",
        "\n",
        "We can use reshape(-1) to do this."
      ],
      "metadata": {
        "id": "mdfbRjll4pwL"
      }
    },
    {
      "cell_type": "code",
      "source": [
        "# Convert the array into a 1D array\n",
        "arr_res4 = np.array([[1, 2, 3], [4, 5, 6]])\n",
        "\n",
        "new_arr4 = arr_res4.reshape(-1)\n",
        "\n",
        "new_arr4"
      ],
      "metadata": {
        "colab": {
          "base_uri": "https://localhost:8080/"
        },
        "id": "nqAisDtOzwJm",
        "outputId": "0dc09d0e-69cc-4e5b-f465-cfd91213e013"
      },
      "execution_count": 99,
      "outputs": [
        {
          "output_type": "execute_result",
          "data": {
            "text/plain": [
              "array([1, 2, 3, 4, 5, 6])"
            ]
          },
          "metadata": {},
          "execution_count": 99
        }
      ]
    },
    {
      "cell_type": "markdown",
      "source": [
        "## Numpy Array Iterating\n",
        "\n",
        "Iterating means going through elements one by one.\n",
        "\n",
        "As we deal with multi-dimensional arrays in numpy, we can do this using basic for loop of python.\n",
        "\n",
        "If we iterate on a 1-D array it will go through each element one by one."
      ],
      "metadata": {
        "id": "1ZHAZAox5c9y"
      }
    },
    {
      "cell_type": "code",
      "source": [
        "# Iterate on the elements of the following 1-D array:\n",
        "\n",
        "array_iter = np.array([1, 2, 3])\n",
        "\n",
        "for x in array_iter:\n",
        "  print(x)"
      ],
      "metadata": {
        "colab": {
          "base_uri": "https://localhost:8080/"
        },
        "id": "VZBMUQFfzwGy",
        "outputId": "34b28979-59ed-4f76-f30b-acc527af06e2"
      },
      "execution_count": 100,
      "outputs": [
        {
          "output_type": "stream",
          "name": "stdout",
          "text": [
            "1\n",
            "2\n",
            "3\n"
          ]
        }
      ]
    },
    {
      "cell_type": "code",
      "source": [
        "# Interate on te elements of the follwing 2-D array:\n",
        "\n",
        "array_iter2 = np.array([[1, 2, 3], [4, 5, 6]])\n",
        "\n",
        "for x in array_iter2:\n",
        "  print(x)"
      ],
      "metadata": {
        "colab": {
          "base_uri": "https://localhost:8080/"
        },
        "id": "-EP_yLHizwEI",
        "outputId": "994b37da-b4f6-4e3c-baf3-a036fcdae7e8"
      },
      "execution_count": 101,
      "outputs": [
        {
          "output_type": "stream",
          "name": "stdout",
          "text": [
            "[1 2 3]\n",
            "[4 5 6]\n"
          ]
        }
      ]
    },
    {
      "cell_type": "code",
      "source": [
        "# Interate on each scaler element of the 2D array:\n",
        "\n",
        "array_iter3 = np.array([[1, 2, 3], [4, 5, 6]])\n",
        "\n",
        "for rows in array_iter3:\n",
        "  for cols in rows:\n",
        "    print(cols)"
      ],
      "metadata": {
        "colab": {
          "base_uri": "https://localhost:8080/"
        },
        "id": "1PXS9jOWzwBE",
        "outputId": "dcf0fd9e-4018-4a40-d476-d6b4985ef4c3"
      },
      "execution_count": 102,
      "outputs": [
        {
          "output_type": "stream",
          "name": "stdout",
          "text": [
            "1\n",
            "2\n",
            "3\n",
            "4\n",
            "5\n",
            "6\n"
          ]
        }
      ]
    },
    {
      "cell_type": "code",
      "source": [
        "# Interate on the elements of the follwing 3D array:\n",
        "\n",
        "arr_iter4  = np.array([[[1, 2, 3], [4, 5, 6]], [[7, 8, 9], [10, 11, 12]]])\n",
        "\n",
        "for x in arr_iter4:\n",
        "  print(x)"
      ],
      "metadata": {
        "colab": {
          "base_uri": "https://localhost:8080/"
        },
        "id": "qs9A6I88b3RO",
        "outputId": "4d383c2d-04c6-4b03-96b7-42364ec1e0d1"
      },
      "execution_count": 103,
      "outputs": [
        {
          "output_type": "stream",
          "name": "stdout",
          "text": [
            "[[1 2 3]\n",
            " [4 5 6]]\n",
            "[[ 7  8  9]\n",
            " [10 11 12]]\n"
          ]
        }
      ]
    },
    {
      "cell_type": "code",
      "source": [
        "# Interate on each scaler element of the 3D array:\n",
        "arr_iter5 = np.array([[[1, 2, 3], [4, 5, 6]], [[7, 8, 9], [10, 11, 12]]])\n",
        "\n",
        "for rows in arr_iter5:\n",
        "  for cols in rows:\n",
        "    for elements in cols:\n",
        "      print(elements)"
      ],
      "metadata": {
        "colab": {
          "base_uri": "https://localhost:8080/"
        },
        "id": "IwNcf3Hv7Jjh",
        "outputId": "f0511ac4-3f68-4123-a914-6bd5c8adfb36"
      },
      "execution_count": 104,
      "outputs": [
        {
          "output_type": "stream",
          "name": "stdout",
          "text": [
            "1\n",
            "2\n",
            "3\n",
            "4\n",
            "5\n",
            "6\n",
            "7\n",
            "8\n",
            "9\n",
            "10\n",
            "11\n",
            "12\n"
          ]
        }
      ]
    },
    {
      "cell_type": "markdown",
      "source": [
        "### Interating Array Using nditer()\n",
        "\n",
        "The function nditer() is a helping function that can be used from very basic to very advanced iterations. It solves some basic issues which we face in iteration, lets go through it with examples.\n",
        "\n",
        "Iterating on Each Scalar Element\n",
        "\n",
        "In basic for loops, iterating through each scalar of an array we need to use n for loops which can be difficult to write for arrays with very high dimensionality.\n"
      ],
      "metadata": {
        "id": "gkSDE-H09wN0"
      }
    },
    {
      "cell_type": "code",
      "source": [
        "# Iterate through the following 3D array\n",
        "\n",
        "arr_iter6 = np.array([[[1, 2], [3, 4]], [[5, 6], [7, 8]]])\n",
        "\n",
        "for x in np.nditer(arr_iter6):\n",
        "  print(x)"
      ],
      "metadata": {
        "colab": {
          "base_uri": "https://localhost:8080/"
        },
        "id": "FVTwJmtb7JgM",
        "outputId": "353ff2d8-9a40-4204-e053-aaea04abc801"
      },
      "execution_count": 105,
      "outputs": [
        {
          "output_type": "stream",
          "name": "stdout",
          "text": [
            "1\n",
            "2\n",
            "3\n",
            "4\n",
            "5\n",
            "6\n",
            "7\n",
            "8\n"
          ]
        }
      ]
    },
    {
      "cell_type": "markdown",
      "source": [
        "### Iterating Array With Different Data Types\n",
        "\n",
        "We can use `op_dtypes` argument and pass it the expected datatype to change the datatype of elements while iterating.\n",
        "\n",
        "NumPy does not change the data type of the element in-place (where the element is in array) so it needs some other space to perform this action, that extra space is called buffer, and in order to enable it in `nditer()` we pass `flags=['buffered']`."
      ],
      "metadata": {
        "id": "TWQSqrnh-Zl3"
      }
    },
    {
      "cell_type": "code",
      "source": [
        "# Iterating through the array as a string\n",
        "\n",
        "arr_iter7 = np.array([1, 2, 3])\n",
        "\n",
        "for x in np.nditer(arr_iter7, flags=['buffered'], op_dtypes=['S']):\n",
        "  print(x)\n",
        "\n",
        "x.dtype"
      ],
      "metadata": {
        "colab": {
          "base_uri": "https://localhost:8080/"
        },
        "id": "6dhZQ7ls7Jcp",
        "outputId": "f9e735a8-98e2-40f5-be81-202ac56f9214"
      },
      "execution_count": 107,
      "outputs": [
        {
          "output_type": "stream",
          "name": "stdout",
          "text": [
            "b'1'\n",
            "b'2'\n",
            "b'3'\n"
          ]
        },
        {
          "output_type": "execute_result",
          "data": {
            "text/plain": [
              "dtype('S21')"
            ]
          },
          "metadata": {},
          "execution_count": 107
        }
      ]
    },
    {
      "cell_type": "markdown",
      "source": [
        "### Iterating With Different Step Size\n",
        "We can use filtering and followed by iteration."
      ],
      "metadata": {
        "id": "Ojb4znyn_YQ8"
      }
    },
    {
      "cell_type": "code",
      "source": [
        "# Iterate through every scaler element of the 2D array skipping 1 element\n",
        "\n",
        "arr_iter8 = np.array([[1, 2, 3, 4], [5, 6, 7, 8], [9, 10, 11, 12]])\n",
        "\n",
        "for x in np.nditer(arr_iter8[:, ::2]):\n",
        "  print(x)"
      ],
      "metadata": {
        "colab": {
          "base_uri": "https://localhost:8080/"
        },
        "id": "Bj8zHXPu7JZe",
        "outputId": "61b0608c-0267-4fb9-a88a-2be89f2b8f1d"
      },
      "execution_count": 110,
      "outputs": [
        {
          "output_type": "stream",
          "name": "stdout",
          "text": [
            "1\n",
            "3\n",
            "5\n",
            "7\n",
            "9\n",
            "11\n"
          ]
        }
      ]
    },
    {
      "cell_type": "markdown",
      "source": [
        "### Enumerated Iteration Using ndenumerate()\n",
        "Enumeration means mentioning sequence number of somethings one by one.\n",
        "\n",
        "Sometimes we require corresponding index of the element while iterating, the `ndenumerate()` method can be used for those usecases."
      ],
      "metadata": {
        "id": "tyFLHzY5_7ko"
      }
    },
    {
      "cell_type": "code",
      "source": [
        "# Enumerate on following 1D arrays elements\n",
        "\n",
        "arr_iter9 = np.array([1, 2, 3])\n",
        "\n",
        "for idx, x in np.ndenumerate(arr_iter9):\n",
        "  print(idx, x)"
      ],
      "metadata": {
        "colab": {
          "base_uri": "https://localhost:8080/"
        },
        "id": "yKRaOmFS7JWc",
        "outputId": "9ec571fe-935b-4554-b9f2-3a856b750a56"
      },
      "execution_count": 111,
      "outputs": [
        {
          "output_type": "stream",
          "name": "stdout",
          "text": [
            "(0,) 1\n",
            "(1,) 2\n",
            "(2,) 3\n"
          ]
        }
      ]
    },
    {
      "cell_type": "code",
      "source": [
        "# Enumerate on following 2 arrays elements\n",
        "\n",
        "arr_iter10 = np.array([[1, 2, 3, 4], [5, 6, 7, 8]])\n",
        "\n",
        "for idx, x in np.ndenumerate(arr_iter10):\n",
        "  print(idx, x)"
      ],
      "metadata": {
        "colab": {
          "base_uri": "https://localhost:8080/"
        },
        "id": "4dq14OY37JTI",
        "outputId": "3cea85ac-f92e-415b-a7e8-75074aaa28bf"
      },
      "execution_count": 112,
      "outputs": [
        {
          "output_type": "stream",
          "name": "stdout",
          "text": [
            "(0, 0) 1\n",
            "(0, 1) 2\n",
            "(0, 2) 3\n",
            "(0, 3) 4\n",
            "(1, 0) 5\n",
            "(1, 1) 6\n",
            "(1, 2) 7\n",
            "(1, 3) 8\n"
          ]
        }
      ]
    },
    {
      "cell_type": "markdown",
      "source": [
        "## Numpy Joining Array\n",
        "\n",
        "Joining means putting contents of two or more arrays in a single array.\n",
        "\n",
        "In SQL we join tables based on a key, whereas in NumPy we join arrays by axes.\n",
        "\n",
        "We pass a sequence of arrays that we want to join to the `concatenate()` function, along with the axis. If axis is not explicitly passed, it is taken as 0."
      ],
      "metadata": {
        "id": "sEpuJSo9BD18"
      }
    },
    {
      "cell_type": "code",
      "source": [
        "# Join two arrays\n",
        "\n",
        "arr_join1 = np.array([1, 2, 3])\n",
        "\n",
        "arr_join2 = np.array([4, 5, 6])\n",
        "\n",
        "arr_join = np.concatenate((arr_join1, arr_join2))\n",
        "\n",
        "arr_join"
      ],
      "metadata": {
        "colab": {
          "base_uri": "https://localhost:8080/"
        },
        "id": "xOIqxu4W7JKu",
        "outputId": "ff85f4e6-3ce0-482f-86e7-de6d5e418d7c"
      },
      "execution_count": 114,
      "outputs": [
        {
          "output_type": "execute_result",
          "data": {
            "text/plain": [
              "array([1, 2, 3, 4, 5, 6])"
            ]
          },
          "metadata": {},
          "execution_count": 114
        }
      ]
    },
    {
      "cell_type": "code",
      "source": [
        "# Join two 2D arrays along rows (axis = 1)\n",
        "\n",
        "arr_j1 = np.array([[1, 2], [3, 4]])\n",
        "\n",
        "arr_j2 = np.array([[5, 6], [7, 8]])\n",
        "\n",
        "arr_j3 = np.concatenate((arr_j1, arr_j2), axis=1)\n",
        "\n",
        "arr_j3"
      ],
      "metadata": {
        "colab": {
          "base_uri": "https://localhost:8080/"
        },
        "id": "lvSTr5pgTfrl",
        "outputId": "da662f63-7223-4827-d2dd-59793d87c266"
      },
      "execution_count": 115,
      "outputs": [
        {
          "output_type": "execute_result",
          "data": {
            "text/plain": [
              "array([[1, 2, 5, 6],\n",
              "       [3, 4, 7, 8]])"
            ]
          },
          "metadata": {},
          "execution_count": 115
        }
      ]
    },
    {
      "cell_type": "markdown",
      "source": [
        "### Joining Arrays Using Stack Functions\n",
        "Stacking is same as concatenation, the only difference is that stacking is done along a new axis.\n",
        "\n",
        "We can concatenate two 1-D arrays along the second axis which would result in putting them one over the other, ie. stacking.\n",
        "\n",
        "We pass a sequence of arrays that we want to join to the `stack()` method along with the axis. If axis is not explicitly passed it is taken as 0."
      ],
      "metadata": {
        "id": "RZuSInC6CEKz"
      }
    },
    {
      "cell_type": "code",
      "source": [
        "arr_stack1 = np.array([1, 2, 3])\n",
        "\n",
        "arr_stack2 = np.array([4, 5, 6])\n",
        "\n",
        "arr_stack3 = np.stack((arr_stack1, arr_stack2), axis=1)\n",
        "\n",
        "arr_stack3"
      ],
      "metadata": {
        "colab": {
          "base_uri": "https://localhost:8080/"
        },
        "id": "dYXxcdMFB_yw",
        "outputId": "b2cf45d0-e99a-47dc-e938-5fef33f2abd0"
      },
      "execution_count": 118,
      "outputs": [
        {
          "output_type": "execute_result",
          "data": {
            "text/plain": [
              "array([[1, 4],\n",
              "       [2, 5],\n",
              "       [3, 6]])"
            ]
          },
          "metadata": {},
          "execution_count": 118
        }
      ]
    },
    {
      "cell_type": "markdown",
      "source": [
        "### Stacking Along Rows\n",
        "NumPy provides a helper function: `hstack()` to stack along rows."
      ],
      "metadata": {
        "id": "LX3uG08EColC"
      }
    },
    {
      "cell_type": "code",
      "source": [
        "arr_hstack = np.hstack((arr_stack1, arr_stack2))\n",
        "\n",
        "arr_hstack"
      ],
      "metadata": {
        "colab": {
          "base_uri": "https://localhost:8080/"
        },
        "id": "fC6TaWNLCVfd",
        "outputId": "d9d09106-b859-46e9-98dc-4f5453d87a57"
      },
      "execution_count": 119,
      "outputs": [
        {
          "output_type": "execute_result",
          "data": {
            "text/plain": [
              "array([1, 2, 3, 4, 5, 6])"
            ]
          },
          "metadata": {},
          "execution_count": 119
        }
      ]
    },
    {
      "cell_type": "markdown",
      "source": [
        "### Stacking Along Columns\n",
        "NumPy provides a helper function: `vstack()`  to stack along columns."
      ],
      "metadata": {
        "id": "isIVs7f-DEaW"
      }
    },
    {
      "cell_type": "code",
      "source": [
        "arr_vstack = np.vstack((arr_stack1, arr_stack2))\n",
        "\n",
        "arr_vstack"
      ],
      "metadata": {
        "colab": {
          "base_uri": "https://localhost:8080/"
        },
        "id": "51p-pHRWCzrC",
        "outputId": "a730e9d3-72a8-4a2a-b529-77cb49257de2"
      },
      "execution_count": 121,
      "outputs": [
        {
          "output_type": "execute_result",
          "data": {
            "text/plain": [
              "array([[1, 2, 3],\n",
              "       [4, 5, 6]])"
            ]
          },
          "metadata": {},
          "execution_count": 121
        }
      ]
    },
    {
      "cell_type": "markdown",
      "source": [
        "### Stacking Along Height (depth)\n",
        "NumPy provides a helper function: `dstack()` to stack along height, which is the same as depth."
      ],
      "metadata": {
        "id": "5nyZjw4XDox2"
      }
    },
    {
      "cell_type": "code",
      "source": [
        "arr_dstack = np.dstack((arr_stack1, arr_stack2))\n",
        "\n",
        "arr_dstack"
      ],
      "metadata": {
        "colab": {
          "base_uri": "https://localhost:8080/"
        },
        "id": "4scwoqxeDOvT",
        "outputId": "e0d3cc83-dcd5-4633-a797-eda356aca148"
      },
      "execution_count": 124,
      "outputs": [
        {
          "output_type": "execute_result",
          "data": {
            "text/plain": [
              "array([[[1, 4],\n",
              "        [2, 5],\n",
              "        [3, 6]]])"
            ]
          },
          "metadata": {},
          "execution_count": 124
        }
      ]
    },
    {
      "cell_type": "markdown",
      "source": [
        "## Numpy Splitting Array\n",
        "\n",
        "Splitting is reverse operation of Joining.\n",
        "\n",
        "Joining merges multiple arrays into one and Splitting breaks one array into multiple.\n",
        "\n",
        "We use `array_split()` for splitting arrays, we pass it the array we want to split and the number of splits."
      ],
      "metadata": {
        "id": "zujRPki_EOlt"
      }
    },
    {
      "cell_type": "code",
      "source": [
        "# split the array in 3 parts:\n",
        "\n",
        "arr_split = np.array([1, 2, 3, 4, 5, 6])\n",
        "\n",
        "new_arr_split = np.array_split(arr_split, 3)\n",
        "\n",
        "print('Print 3 parts: ', new_arr_split)\n",
        "\n",
        "# Split the array in 4 parts:\n",
        "\n",
        "new_arr_split2 = np.array_split(arr_split, 4)\n",
        "\n",
        "print('Print 4 parts: ', new_arr_split2)"
      ],
      "metadata": {
        "colab": {
          "base_uri": "https://localhost:8080/"
        },
        "id": "i77bcPTmDwWL",
        "outputId": "d634e8b2-185e-438b-851b-907a5e8f4b76"
      },
      "execution_count": 133,
      "outputs": [
        {
          "output_type": "stream",
          "name": "stdout",
          "text": [
            "Print 3 parts:  [array([1, 2]), array([3, 4]), array([5, 6])]\n",
            "Print 4 parts:  [array([1, 2]), array([3, 4]), array([5]), array([6])]\n"
          ]
        }
      ]
    },
    {
      "cell_type": "markdown",
      "source": [
        "### Split Into Arrays\n",
        "The return value of the `array_split()` method is an array containing each of the split as an array.\n",
        "\n",
        "If you split an array into 3 arrays, you can access them from the result just like any array element:"
      ],
      "metadata": {
        "id": "O2cLShOrFkzS"
      }
    },
    {
      "cell_type": "code",
      "source": [
        "# Accsess the splited arrays:\n",
        "\n",
        "arr = np.array([1, 2, 3, 4, 5, 6])\n",
        "\n",
        "new_arr = np.array_split(arr, 3)\n",
        "\n",
        "print(new_arr[0])\n",
        "print(new_arr[1])\n",
        "print(new_arr[2])"
      ],
      "metadata": {
        "colab": {
          "base_uri": "https://localhost:8080/"
        },
        "id": "eUyufTUrEuZb",
        "outputId": "49fc3243-2065-4ba6-e347-2f63c5f29b88"
      },
      "execution_count": 134,
      "outputs": [
        {
          "output_type": "stream",
          "name": "stdout",
          "text": [
            "[1 2]\n",
            "[3 4]\n",
            "[5 6]\n"
          ]
        }
      ]
    },
    {
      "cell_type": "markdown",
      "source": [
        "### Splitting 2-D Arrays\n",
        "Use the same syntax when splitting 2-D arrays.\n",
        "\n",
        "Use the `array_split()` method, pass in the array you want to split and the number of splits you want to do."
      ],
      "metadata": {
        "id": "1yMxs8cqGDnu"
      }
    },
    {
      "cell_type": "code",
      "source": [
        "# Split the 2D array into three 2D arrays:\n",
        "\n",
        "arr_split = np.array([[1, 2], [3, 4], [5, 6], [7, 8], [9, 10], [11, 12]])\n",
        "\n",
        "new_arr_split = np.array_split(arr_split, 3)\n",
        "\n",
        "print(new_arr_split)"
      ],
      "metadata": {
        "colab": {
          "base_uri": "https://localhost:8080/"
        },
        "id": "hO0tNH_OF6Lm",
        "outputId": "ef6a7ace-ce4d-4aef-88f1-2c936ef5cfc9"
      },
      "execution_count": 137,
      "outputs": [
        {
          "output_type": "stream",
          "name": "stdout",
          "text": [
            "[array([[1, 2],\n",
            "       [3, 4]]), array([[5, 6],\n",
            "       [7, 8]]), array([[ 9, 10],\n",
            "       [11, 12]])]\n"
          ]
        }
      ]
    },
    {
      "cell_type": "code",
      "source": [
        "# Split the 2D array into three 2D arrays long rows\n",
        "\n",
        "arr_split3 = np.array([[1, 2, 3], [4, 5, 6], [7, 8, 9], [10, 11, 12], [13, 14, 15], [16, 17, 18]])\n",
        "\n",
        "new_arr_split2 = np.array_split(arr_split3, 3, axis=1)\n",
        "\n",
        "print(new_arr_split2)"
      ],
      "metadata": {
        "colab": {
          "base_uri": "https://localhost:8080/"
        },
        "id": "TBrhuY8eGbmN",
        "outputId": "fd61d8a8-357b-4968-d4d5-ea8b32781184"
      },
      "execution_count": 142,
      "outputs": [
        {
          "output_type": "stream",
          "name": "stdout",
          "text": [
            "[array([[ 1],\n",
            "       [ 4],\n",
            "       [ 7],\n",
            "       [10],\n",
            "       [13],\n",
            "       [16]]), array([[ 2],\n",
            "       [ 5],\n",
            "       [ 8],\n",
            "       [11],\n",
            "       [14],\n",
            "       [17]]), array([[ 3],\n",
            "       [ 6],\n",
            "       [ 9],\n",
            "       [12],\n",
            "       [15],\n",
            "       [18]])]\n"
          ]
        }
      ]
    },
    {
      "cell_type": "code",
      "source": [
        "# Use the hsplit() method to split the 2-D array into three 2-D arrays along rows.\n",
        "\n",
        "new_arr_split3 = np.hsplit(arr_split3, 3)\n",
        "\n",
        "print(new_arr_split3)"
      ],
      "metadata": {
        "colab": {
          "base_uri": "https://localhost:8080/"
        },
        "id": "-wQ_ZcpjHPdE",
        "outputId": "15b2da9c-6d70-4573-f2aa-6e683df9ee18"
      },
      "execution_count": 143,
      "outputs": [
        {
          "output_type": "stream",
          "name": "stdout",
          "text": [
            "[array([[ 1],\n",
            "       [ 4],\n",
            "       [ 7],\n",
            "       [10],\n",
            "       [13],\n",
            "       [16]]), array([[ 2],\n",
            "       [ 5],\n",
            "       [ 8],\n",
            "       [11],\n",
            "       [14],\n",
            "       [17]]), array([[ 3],\n",
            "       [ 6],\n",
            "       [ 9],\n",
            "       [12],\n",
            "       [15],\n",
            "       [18]])]\n"
          ]
        }
      ]
    },
    {
      "cell_type": "markdown",
      "source": [
        "## Numpy Searching Arrays\n",
        "\n",
        "You can search an array for a certain value, and return the indexes that get a match.\n"
      ],
      "metadata": {
        "id": "0q_xGNODH0Ju"
      }
    },
    {
      "cell_type": "code",
      "source": [
        "# To search an array, use the `where()` method\n",
        "# Find the indexes where the value is 4:\n",
        "\n",
        "arr_search = np.array([1, 2, 3, 4, 5, 4, 4])\n",
        "\n",
        "x = np.where(arr_search == 4)\n",
        "\n",
        "print(x)"
      ],
      "metadata": {
        "colab": {
          "base_uri": "https://localhost:8080/"
        },
        "id": "GPAXvdEfHmw1",
        "outputId": "2ff83b4a-5530-4abe-8628-4aebb1063a16"
      },
      "execution_count": 145,
      "outputs": [
        {
          "output_type": "stream",
          "name": "stdout",
          "text": [
            "(array([3, 5, 6]),)\n"
          ]
        }
      ]
    },
    {
      "cell_type": "code",
      "source": [
        "# Find the indexes where the values are even:\n",
        "\n",
        "arr_search2 = np.array([1, 2, 3, 4, 5, 4, 4])\n",
        "\n",
        "arr_even = np.where(arr_search2 % 2 == 0)\n",
        "\n",
        "print(arr_even)\n",
        "\n",
        "# Find the indexes where the values are odd:\n",
        "\n",
        "arr_odd = np.where(arr_search2 % 2 == 1)\n",
        "\n",
        "print(arr_odd)\n"
      ],
      "metadata": {
        "colab": {
          "base_uri": "https://localhost:8080/"
        },
        "id": "PCsfYRd2H-V9",
        "outputId": "28f76bb7-639b-4790-d0ff-237cbf03d0dd"
      },
      "execution_count": 148,
      "outputs": [
        {
          "output_type": "stream",
          "name": "stdout",
          "text": [
            "(array([1, 3, 5, 6]),)\n",
            "(array([0, 2, 4]),)\n"
          ]
        }
      ]
    },
    {
      "cell_type": "markdown",
      "source": [
        "### Search Sorted\n",
        "\n",
        "There is a method called `searchsorted()` which performs a binary search in the array, and returns the index where the specified value would be inserted to maintain the search order."
      ],
      "metadata": {
        "id": "4YScwoefI-FL"
      }
    },
    {
      "cell_type": "code",
      "source": [
        "# Find the indexes where the value 7 should be inserted:\n",
        "\n",
        "arr_search3 = np.array([6, 7, 8, 9])\n",
        "\n",
        "x = np.searchsorted(arr_search3, 7)\n",
        "\n",
        "print(x)"
      ],
      "metadata": {
        "colab": {
          "base_uri": "https://localhost:8080/"
        },
        "id": "0PC_dR_AH-Sm",
        "outputId": "7ec4975b-3a33-4c4a-ab30-1dd297968e83"
      },
      "execution_count": 149,
      "outputs": [
        {
          "output_type": "stream",
          "name": "stdout",
          "text": [
            "1\n"
          ]
        }
      ]
    },
    {
      "cell_type": "markdown",
      "source": [
        "### Search From the Right Side\n",
        "By default the left most index is returned, but we can give `side='right'` to return the right most index instead."
      ],
      "metadata": {
        "id": "k_LT_1wLJjzR"
      }
    },
    {
      "cell_type": "code",
      "source": [
        "# Find the indexes where the value 7 should be inserted, starting from the right:\n",
        "\n",
        "arr_search4 = np.array([6, 7, 8, 9])\n",
        "\n",
        "x = np.searchsorted(arr_search4, 7, side='right')\n",
        "\n",
        "print(x)"
      ],
      "metadata": {
        "colab": {
          "base_uri": "https://localhost:8080/"
        },
        "id": "ickEHBoZH-P9",
        "outputId": "ccc96473-1f80-495e-d158-8df67759c285"
      },
      "execution_count": 151,
      "outputs": [
        {
          "output_type": "stream",
          "name": "stdout",
          "text": [
            "2\n"
          ]
        }
      ]
    },
    {
      "cell_type": "markdown",
      "source": [
        "### Multiple Values\n",
        "\n",
        "To search for more than one value, use an array with the specified values.\n"
      ],
      "metadata": {
        "id": "RbaYBQO_Jz2F"
      }
    },
    {
      "cell_type": "code",
      "source": [
        "# Find the indexes where the values 2, 4, and 6 should be inserted:\n",
        "\n",
        "arr_search5 = np.array([1, 3, 5, 7])\n",
        "\n",
        "x = np.searchsorted(arr_search5, [1, 3, 7])\n",
        "\n",
        "print(x)"
      ],
      "metadata": {
        "colab": {
          "base_uri": "https://localhost:8080/"
        },
        "id": "iFbgtpGOH-NR",
        "outputId": "246cbb45-6302-40ec-acd5-6c3cbbf905ee"
      },
      "execution_count": 155,
      "outputs": [
        {
          "output_type": "stream",
          "name": "stdout",
          "text": [
            "[0 1 3]\n"
          ]
        }
      ]
    },
    {
      "cell_type": "markdown",
      "source": [
        "## NumPy Sorting Arrays\n",
        "\n",
        "Sorting Arrays\n",
        "\n",
        "Sorting means putting elements in an ordered sequence.\n",
        "\n",
        "Ordered sequence is any sequence that has an order corresponding to elements, like numeric or alphabetical, ascending or descending."
      ],
      "metadata": {
        "id": "43BHug0ZKptv"
      }
    },
    {
      "cell_type": "code",
      "source": [
        "# The NumPy ndarray object has a function called sort(), that will sort a specified array.\n",
        "# sort the array\n",
        "\n",
        "arr_sort = np.array([3, 2, 0, 1])\n",
        "\n",
        "print(np.sort(arr_sort))"
      ],
      "metadata": {
        "colab": {
          "base_uri": "https://localhost:8080/"
        },
        "id": "AVKs7fgSH-KZ",
        "outputId": "f5965dd1-e3f6-452a-a814-b887a18e6a0a"
      },
      "execution_count": 156,
      "outputs": [
        {
          "output_type": "stream",
          "name": "stdout",
          "text": [
            "[0 1 2 3]\n"
          ]
        }
      ]
    },
    {
      "cell_type": "code",
      "source": [
        "# Sort the array alphabetically\n",
        "\n",
        "arr_sort2 = np.array(['banana', 'cherry', 'apple'])\n",
        "\n",
        "print(np.sort(arr_sort2))"
      ],
      "metadata": {
        "colab": {
          "base_uri": "https://localhost:8080/"
        },
        "id": "_afEfShFK48K",
        "outputId": "4d83b9f0-65c3-48b2-e04d-ec4859794704"
      },
      "execution_count": 157,
      "outputs": [
        {
          "output_type": "stream",
          "name": "stdout",
          "text": [
            "['apple' 'banana' 'cherry']\n"
          ]
        }
      ]
    },
    {
      "cell_type": "code",
      "source": [
        "# sort the array boolean\n",
        "\n",
        "arr_sort3 = np.array([True, False, True])\n",
        "\n",
        "print(np.sort(arr_sort3))"
      ],
      "metadata": {
        "colab": {
          "base_uri": "https://localhost:8080/"
        },
        "id": "NbDgznx-K42a",
        "outputId": "6ee7deb5-8050-4909-baa2-da035618bc36"
      },
      "execution_count": 158,
      "outputs": [
        {
          "output_type": "stream",
          "name": "stdout",
          "text": [
            "[False  True  True]\n"
          ]
        }
      ]
    },
    {
      "cell_type": "code",
      "source": [
        "# Sort a 2D array\n",
        "\n",
        "arr_sort2d = np.array([[3, 2, 4], [5, 0, 1]])\n",
        "\n",
        "print(np.sort(arr_sort2d))"
      ],
      "metadata": {
        "colab": {
          "base_uri": "https://localhost:8080/"
        },
        "id": "jg9ifdYiK4zf",
        "outputId": "bfd9733c-4b92-4788-c278-0043d701042b"
      },
      "execution_count": 163,
      "outputs": [
        {
          "output_type": "stream",
          "name": "stdout",
          "text": [
            "[[2 3 4]\n",
            " [0 1 5]]\n"
          ]
        }
      ]
    },
    {
      "cell_type": "markdown",
      "source": [
        "## NumPy Filter Array\n",
        "\n",
        "Getting some elements out of an existing array and creating a new array out of them is called filtering.\n",
        "\n",
        "In NumPy, you filter an array using a boolean index list.\n",
        "\n",
        "If the value at an index is `True` that element is contained in the filtered array, if the value at that index is `False` that element is excluded from the filtered array."
      ],
      "metadata": {
        "id": "_XDTafXrMIcn"
      }
    },
    {
      "cell_type": "code",
      "source": [
        "# Create an array from the elements on index 0 and 2:\n",
        "\n",
        "arr_fiter = np.array([41, 42, 43, 44])\n",
        "\n",
        "x = [True, False, True, False]\n",
        "\n",
        "newarr = arr_fiter[x]\n",
        "\n",
        "print(newarr)"
      ],
      "metadata": {
        "colab": {
          "base_uri": "https://localhost:8080/"
        },
        "id": "DLWBl3BKK4w4",
        "outputId": "9b708552-0675-49ce-d299-22ce8265d215"
      },
      "execution_count": 164,
      "outputs": [
        {
          "output_type": "stream",
          "name": "stdout",
          "text": [
            "[41 43]\n"
          ]
        }
      ]
    },
    {
      "cell_type": "code",
      "source": [
        "#Create a filter array that will return only values higher than 42:\n",
        "\n",
        "arr_filter2 = np.array([41, 42, 43, 44])\n",
        "\n",
        "filter_arr = []\n",
        "\n",
        "for x in arr_filter2:\n",
        "  if x > 42:\n",
        "    filter_arr.append(True)\n",
        "  else:\n",
        "    filter_arr.append(False)\n",
        "\n",
        "print(filter_arr)"
      ],
      "metadata": {
        "colab": {
          "base_uri": "https://localhost:8080/"
        },
        "id": "RBXvXDi9K4uG",
        "outputId": "07863201-dbc7-446b-c177-fd784681367b"
      },
      "execution_count": 166,
      "outputs": [
        {
          "output_type": "stream",
          "name": "stdout",
          "text": [
            "[False, False, True, True]\n"
          ]
        }
      ]
    },
    {
      "cell_type": "code",
      "source": [
        "# Create a filter array that will return only even elements from the original array:\n",
        "\n",
        "arr_filter3 = np.array([41, 42, 43, 44])\n",
        "\n",
        "filter_arr_1 = []\n",
        "\n",
        "for x in arr_filter3:\n",
        "  if x % 2 == 0:\n",
        "    filter_arr_1.append(True)\n",
        "  else:\n",
        "    filter_arr_1.append(False)\n",
        "\n",
        "print(filter_arr_1)"
      ],
      "metadata": {
        "colab": {
          "base_uri": "https://localhost:8080/"
        },
        "id": "-PIUa8GvK4rW",
        "outputId": "bec6f971-7004-412a-8a23-79831a403a40"
      },
      "execution_count": 167,
      "outputs": [
        {
          "output_type": "stream",
          "name": "stdout",
          "text": [
            "[False, True, False, True]\n"
          ]
        }
      ]
    },
    {
      "cell_type": "code",
      "source": [
        "#Create a filter array that will return only values higher than 42:\n",
        "\n",
        "arr_filter4 = np.array([41, 42, 43, 44])\n",
        "\n",
        "filter_arr_2 = arr_filter4[arr_filter4 > 42]\n",
        "\n",
        "print(filter_arr_2)"
      ],
      "metadata": {
        "colab": {
          "base_uri": "https://localhost:8080/"
        },
        "id": "YM_Uz7NzK4ot",
        "outputId": "54168b36-7ee3-4bf5-e4c8-710443c0fc83"
      },
      "execution_count": 168,
      "outputs": [
        {
          "output_type": "stream",
          "name": "stdout",
          "text": [
            "[43 44]\n"
          ]
        }
      ]
    },
    {
      "cell_type": "code",
      "source": [
        "# Create a filter array that will return only even elements from the original array:\n",
        "\n",
        "arr_filter4 = np.array([41, 42, 43, 44])\n",
        "\n",
        "filter_arr_3 = arr_filter4[arr_filter4 % 2 == 0]\n",
        "\n",
        "print(filter_arr_3)"
      ],
      "metadata": {
        "colab": {
          "base_uri": "https://localhost:8080/"
        },
        "id": "s2r_HDKKK4lv",
        "outputId": "3efe2334-3835-40b7-eafc-4396e1c26604"
      },
      "execution_count": 170,
      "outputs": [
        {
          "output_type": "stream",
          "name": "stdout",
          "text": [
            "[42 44]\n"
          ]
        }
      ]
    }
  ]
}